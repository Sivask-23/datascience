{
 "cells": [
  {
   "cell_type": "code",
   "execution_count": 1,
   "id": "b874d65c-d392-4cc2-a4b0-7de339023d57",
   "metadata": {},
   "outputs": [],
   "source": [
    "import numpy as np"
   ]
  },
  {
   "cell_type": "code",
   "execution_count": 7,
   "id": "1276eb9f-e7cb-48fd-b66b-6755e3b138a6",
   "metadata": {},
   "outputs": [
    {
     "data": {
      "text/plain": [
       "array([ 0, -2,  0])"
      ]
     },
     "execution_count": 7,
     "metadata": {},
     "output_type": "execute_result"
    }
   ],
   "source": [
    "a = np.array([2,4,6])\n",
    "b = np.array([2,6,6])\n",
    "np.add(a,b)\n",
    "np.subtract(a,b)    "
   ]
  },
  {
   "cell_type": "code",
   "execution_count": 9,
   "id": "cf58f29f-e9e5-4481-b1cc-7983c498bd0e",
   "metadata": {},
   "outputs": [
    {
     "name": "stdout",
     "output_type": "stream",
     "text": [
      "[False  True False]\n"
     ]
    }
   ],
   "source": [
    "print(np.greater(b,a))"
   ]
  },
  {
   "cell_type": "code",
   "execution_count": 10,
   "id": "b57a26d5-da18-4f39-8d51-3fa1ffd5d1e1",
   "metadata": {},
   "outputs": [
    {
     "name": "stdout",
     "output_type": "stream",
     "text": [
      "[False False False]\n"
     ]
    }
   ],
   "source": [
    "print(np.less(b,a))"
   ]
  },
  {
   "cell_type": "code",
   "execution_count": 11,
   "id": "af697f4c-2598-453f-b011-f2cc0a1fa67a",
   "metadata": {},
   "outputs": [
    {
     "name": "stdout",
     "output_type": "stream",
     "text": [
      "[ True  True  True]\n"
     ]
    }
   ],
   "source": [
    "print(np.greater_equal(b,a))"
   ]
  },
  {
   "cell_type": "code",
   "execution_count": 14,
   "id": "75497214-ab5f-4413-a8d2-9f46c9b51104",
   "metadata": {},
   "outputs": [
    {
     "name": "stdout",
     "output_type": "stream",
     "text": [
      "[ True False  True]\n"
     ]
    }
   ],
   "source": [
    "print(np.less_equal(b,a))"
   ]
  },
  {
   "cell_type": "code",
   "execution_count": 17,
   "id": "d53e1128-0a18-410b-88c0-202ff29f7e80",
   "metadata": {},
   "outputs": [
    {
     "name": "stdout",
     "output_type": "stream",
     "text": [
      "[30 32 34 36 38 40 42 44 46 48 50 52 54 56 58 60 62 64 66 68 70]\n"
     ]
    }
   ],
   "source": [
    "#array of even numbers from 30 to 70\n",
    "\n",
    "even = np.arange(30,71,2)\n",
    "print(even)"
   ]
  },
  {
   "cell_type": "code",
   "execution_count": 19,
   "id": "f4e46e41-fe81-414e-bbad-58e6894e223f",
   "metadata": {},
   "outputs": [
    {
     "name": "stdout",
     "output_type": "stream",
     "text": [
      "[[1. 0. 0. 0. 0.]\n",
      " [0. 1. 0. 0. 0.]\n",
      " [0. 0. 1. 0. 0.]\n",
      " [0. 0. 0. 1. 0.]\n",
      " [0. 0. 0. 0. 1.]]\n"
     ]
    }
   ],
   "source": [
    "#print identity matrix\n",
    "\n",
    "id = np.identity(5)\n",
    "print(id)"
   ]
  },
  {
   "cell_type": "code",
   "execution_count": 20,
   "id": "924c4281-0c41-43a3-899b-042027613dd8",
   "metadata": {},
   "outputs": [
    {
     "name": "stdout",
     "output_type": "stream",
     "text": [
      "[ 0  1  2  3  4  5  6  7  8  9 10 11 12 13 14 15 16 17 18 19 20]\n"
     ]
    }
   ],
   "source": [
    "#changing thye sign of numbers in a specific range\n",
    "\n",
    "x = np.arange(21)\n",
    "print(x)"
   ]
  },
  {
   "cell_type": "code",
   "execution_count": 21,
   "id": "c532fc91-1557-43ae-b32a-af8235db376e",
   "metadata": {},
   "outputs": [
    {
     "name": "stdout",
     "output_type": "stream",
     "text": [
      "[  0   1   2   3   4   5   6   7   8  -9 -10 -11 -12 -13 -14 -15  16  17\n",
      "  18  19  20]\n"
     ]
    }
   ],
   "source": [
    "#we have to change sign of number from 9 to 15\n",
    "\n",
    "x[(x>=9)&(x<=15)] *= -1\n",
    "print(x)"
   ]
  },
  {
   "cell_type": "code",
   "execution_count": 22,
   "id": "423ecf02-0e8a-41af-9c81-5cb9755217bc",
   "metadata": {},
   "outputs": [
    {
     "name": "stdout",
     "output_type": "stream",
     "text": [
      "[[1 0 0 0 0]\n",
      " [0 2 0 0 0]\n",
      " [0 0 3 0 0]\n",
      " [0 0 0 4 0]\n",
      " [0 0 0 0 5]]\n"
     ]
    }
   ],
   "source": [
    "#diagonal matrix with elemenmts 12345\n",
    "\n",
    "x = np.diag([1,2,3,4,5])\n",
    "print(x)"
   ]
  },
  {
   "cell_type": "code",
   "execution_count": 27,
   "id": "e49d9561-2917-439e-93ef-29af36bf9248",
   "metadata": {},
   "outputs": [
    {
     "name": "stdout",
     "output_type": "stream",
     "text": [
      "[[ 5  4  9]\n",
      " [11 14 14]\n",
      " [ 6  9 11]]\n"
     ]
    }
   ],
   "source": [
    "# matrix operations\n",
    "\n",
    "x = np.array([[1,2,3],[4,5,6],[2,6,3]])\n",
    "y = np.array([[4,2,6],[7,9,8],[4,3,8]])\n",
    "\n",
    "print(np.add(x,y))"
   ]
  },
  {
   "cell_type": "code",
   "execution_count": 26,
   "id": "edaacfe1-054f-4684-ab51-ecd96b11cf67",
   "metadata": {},
   "outputs": [
    {
     "name": "stdout",
     "output_type": "stream",
     "text": [
      "[[1.         1.41421356 1.73205081]\n",
      " [2.         2.23606798 2.44948974]]\n"
     ]
    }
   ],
   "source": [
    "print(np.sqrt(x))"
   ]
  },
  {
   "cell_type": "code",
   "execution_count": 28,
   "id": "cbbce31b-e553-4b57-acb8-72bcdab90e38",
   "metadata": {},
   "outputs": [
    {
     "name": "stdout",
     "output_type": "stream",
     "text": [
      "[[1 4 2]\n",
      " [2 5 6]\n",
      " [3 6 3]]\n"
     ]
    }
   ],
   "source": [
    "print(x.T)"
   ]
  },
  {
   "cell_type": "code",
   "execution_count": 31,
   "id": "75d7961f-b6d9-4290-a3b3-9d301f67e91b",
   "metadata": {},
   "outputs": [
    {
     "name": "stdout",
     "output_type": "stream",
     "text": [
      "[[ 30  29  46]\n",
      " [ 75  71 112]\n",
      " [ 62  67  84]]\n"
     ]
    }
   ],
   "source": [
    "print(np.dot(x,y))"
   ]
  },
  {
   "cell_type": "code",
   "execution_count": 36,
   "id": "78512322-45d1-4ebc-a446-3e0c7f54bbbf",
   "metadata": {},
   "outputs": [
    {
     "name": "stdout",
     "output_type": "stream",
     "text": [
      "[12 24 15]\n"
     ]
    }
   ],
   "source": [
    "print(np.sum(y,axis=1))"
   ]
  },
  {
   "cell_type": "code",
   "execution_count": null,
   "id": "a72596bd-5b54-4041-926d-3adb0474d1de",
   "metadata": {},
   "outputs": [],
   "source": []
  }
 ],
 "metadata": {
  "kernelspec": {
   "display_name": "Python 3 (ipykernel)",
   "language": "python",
   "name": "python3"
  },
  "language_info": {
   "codemirror_mode": {
    "name": "ipython",
    "version": 3
   },
   "file_extension": ".py",
   "mimetype": "text/x-python",
   "name": "python",
   "nbconvert_exporter": "python",
   "pygments_lexer": "ipython3",
   "version": "3.12.0"
  }
 },
 "nbformat": 4,
 "nbformat_minor": 5
}
