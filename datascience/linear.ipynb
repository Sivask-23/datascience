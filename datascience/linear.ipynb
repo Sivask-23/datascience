{
 "cells": [
  {
   "cell_type": "code",
   "execution_count": 68,
   "id": "e5112f57-34b3-4d74-ae7b-68cb30d13aa1",
   "metadata": {},
   "outputs": [],
   "source": [
    "from sklearn import datasets\n",
    "from sklearn.model_selection import train_test_split"
   ]
  },
  {
   "cell_type": "code",
   "execution_count": 69,
   "id": "389481fe-5903-41fe-84a9-68bb8bcca431",
   "metadata": {},
   "outputs": [],
   "source": [
    "iris = datasets.load_iris()"
   ]
  },
  {
   "cell_type": "code",
   "execution_count": 70,
   "id": "83e865a4-f478-44f8-99b9-427b1f1970a7",
   "metadata": {},
   "outputs": [],
   "source": [
    "x,y = iris.data[:,:1],iris.target"
   ]
  },
  {
   "cell_type": "code",
   "execution_count": 71,
   "id": "b95963fc-c763-4f3d-b02c-b08c955b2230",
   "metadata": {},
   "outputs": [],
   "source": [
    "X_train,X_test,y_train,y_test = train_test_split(x,y,test_size=0.33,random_state = 50)"
   ]
  },
  {
   "cell_type": "code",
   "execution_count": 72,
   "id": "fb21df49-1989-4728-8af7-fe3bf4834528",
   "metadata": {},
   "outputs": [],
   "source": [
    "from sklearn.linear_model import LinearRegression"
   ]
  },
  {
   "cell_type": "code",
   "execution_count": 73,
   "id": "dc0b8736-c5ca-491a-a864-577a5bcbc13b",
   "metadata": {},
   "outputs": [
    {
     "data": {
      "text/plain": [
       "array([ 0.82207759,  1.37479057,  0.66415959,  0.66415959,  1.53270856,\n",
       "        1.69062655,  0.90103658,  0.4272826 ,  0.19040561,  1.29583157,\n",
       "        0.4272826 ,  2.24333953,  0.26936461,  1.76958555,  0.90103658,\n",
       "        0.34832361,  0.97999558,  0.5852006 ,  0.74311859,  1.69062655,\n",
       "        1.37479057,  0.74311859,  0.97999558,  2.63813452,  1.69062655,\n",
       "        2.48021652,  1.37479057,  1.53270856,  1.29583157,  1.76958555,\n",
       "        2.08542154,  0.4272826 ,  1.21687257,  1.69062655,  0.4272826 ,\n",
       "        0.03248762,  0.5062416 ,  1.13791358,  0.66415959,  0.34832361,\n",
       "       -0.04647138,  0.26936461,  1.53270856, -0.12543038,  2.00646254,\n",
       "        0.4272826 , -0.12543038,  0.90103658,  1.37479057,  0.97999558])"
      ]
     },
     "execution_count": 73,
     "metadata": {},
     "output_type": "execute_result"
    }
   ],
   "source": [
    "lr = LinearRegression()\n",
    "lr.fit(X_train,y_train)\n",
    "Y_pred =lr.predict(X_test)\n",
    "Y_pred"
   ]
  },
  {
   "cell_type": "code",
   "execution_count": 74,
   "id": "32666a81-6ad0-4ab6-b85a-073e617a1103",
   "metadata": {},
   "outputs": [
    {
     "name": "stdout",
     "output_type": "stream",
     "text": [
      "0.24916247530563276\n"
     ]
    }
   ],
   "source": [
    "from sklearn.metrics import mean_squared_error,r2_score\n",
    "ms = mean_squared_error(y_test,Y_pred)\n",
    "print(ms)"
   ]
  },
  {
   "cell_type": "code",
   "execution_count": 75,
   "id": "9f6fa67d-5153-4570-9ee0-482e4d645fef",
   "metadata": {},
   "outputs": [
    {
     "name": "stdout",
     "output_type": "stream",
     "text": [
      "0.6222521599368818\n"
     ]
    }
   ],
   "source": [
    "r = r2_score(y_test,Y_pred)\n",
    "print(r)"
   ]
  },
  {
   "cell_type": "code",
   "execution_count": 76,
   "id": "574ecc92-0acd-4946-a08d-962115420846",
   "metadata": {},
   "outputs": [],
   "source": [
    "import matplotlib.pyplot as plt"
   ]
  },
  {
   "cell_type": "code",
   "execution_count": 77,
   "id": "728788eb-ddd8-41da-a6b9-428fa7d0ec73",
   "metadata": {},
   "outputs": [
    {
     "data": {
      "image/png": "[encoded data removed]",
      "text/plain": [
       "<Figure size 640x480 with 1 Axes>"
      ]
     },
     "metadata": {},
     "output_type": "display_data"
    }
   ],
   "source": [
    "plt.scatter(X_test,y_test,color=\"red\")\n",
    "plt.plot(X_train,lr.predict(X_train))\n",
    "plt.show()"
   ]
  },
  {
   "cell_type": "code",
   "execution_count": null,
   "id": "d9f16de2-d7ed-441a-aa58-5efa07ed7570",
   "metadata": {},
   "outputs": [],
   "source": []
  },
  {
   "cell_type": "code",
   "execution_count": null,
   "id": "f2314bd2-bcdf-43fd-af53-e3453342f8a0",
   "metadata": {},
   "outputs": [],
   "source": []
  },
  {
   "cell_type": "code",
   "execution_count": null,
   "id": "98756637-6051-449e-9747-3d0e7edb0d26",
   "metadata": {},
   "outputs": [],
   "source": []
  },
  {
   "cell_type": "code",
   "execution_count": null,
   "id": "6cd465c6-f722-479e-b397-2dcf4793675c",
   "metadata": {},
   "outputs": [],
   "source": []
  },
  {
   "cell_type": "code",
   "execution_count": null,
   "id": "ff02aa27-8b3c-4621-a5f8-f953496ca87b",
   "metadata": {},
   "outputs": [],
   "source": []
  }
 ],
 "metadata": {
  "kernelspec": {
   "display_name": "Python 3 (ipykernel)",
   "language": "python",
   "name": "python3"
  },
  "language_info": {
   "codemirror_mode": {
    "name": "ipython",
    "version": 3
   },
   "file_extension": ".py",
   "mimetype": "text/x-python",
   "name": "python",
   "nbconvert_exporter": "python",
   "pygments_lexer": "ipython3",
   "version": "3.12.0"
  }
 },
 "nbformat": 4,
 "nbformat_minor": 5
}
