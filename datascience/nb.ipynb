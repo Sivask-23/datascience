{
 "cells": [
  {
   "cell_type": "code",
   "execution_count": 24,
   "id": "d98094ad-ba90-401f-b10f-31acbef368b5",
   "metadata": {},
   "outputs": [],
   "source": [
    "from sklearn import datasets\n",
    "from sklearn.model_selection import train_test_split\n",
    "iris=datasets.load_iris()\n",
    "x,y=iris.data,iris.target\n",
    "X_train,X_test,y_train,y_test=train_test_split(x,y,test_size=0.33,random_state=50)"
   ]
  },
  {
   "cell_type": "code",
   "execution_count": 25,
   "id": "801877e9-83f3-4a25-9390-e6021ed0663c",
   "metadata": {},
   "outputs": [],
   "source": [
    "#from sklearn.preprocessing import StandardScaler as sc\n",
    "#X_train = sc.fit_transform(X_train)\n",
    "#X_test = sc.transform(X_test)"
   ]
  },
  {
   "cell_type": "code",
   "execution_count": 26,
   "id": "e22f7386-0524-496c-a58a-1ae7ae90ef8b",
   "metadata": {},
   "outputs": [],
   "source": [
    "from sklearn.naive_bayes import GaussianNB,BernoulliNB"
   ]
  },
  {
   "cell_type": "code",
   "execution_count": 27,
   "id": "87ba4ce4-ad84-4270-b9e6-02498ee922ed",
   "metadata": {},
   "outputs": [
    {
     "data": {
      "text/plain": [
       "array([1, 1, 0, 0, 2, 2, 2, 0, 0, 1, 0, 2, 0, 2, 1, 0, 1, 0, 1, 2, 2, 1,\n",
       "       0, 2, 1, 2, 1, 1, 1, 2, 2, 1, 1, 2, 0, 0, 1, 1, 1, 0, 0, 1, 2, 0,\n",
       "       2, 0, 0, 0, 2, 2])"
      ]
     },
     "execution_count": 27,
     "metadata": {},
     "output_type": "execute_result"
    }
   ],
   "source": [
    "gnb=GaussianNB()\n",
    "gnb.fit(X_train,y_train)\n",
    "Y_pred=gnb.predict(X_test)\n",
    "Y_pred"
   ]
  },
  {
   "cell_type": "code",
   "execution_count": 28,
   "id": "b4bb39cb-b494-4aa2-9701-e744a4e94232",
   "metadata": {},
   "outputs": [
    {
     "name": "stdout",
     "output_type": "stream",
     "text": [
      "0.96\n"
     ]
    }
   ],
   "source": [
    "from sklearn.metrics import accuracy_score\n",
    "acs=accuracy_score(y_test,Y_pred)\n",
    "print(acs)"
   ]
  },
  {
   "cell_type": "code",
   "execution_count": 29,
   "id": "6b720440-610f-4fe6-80d3-eda403b91a76",
   "metadata": {},
   "outputs": [
    {
     "name": "stdout",
     "output_type": "stream",
     "text": [
      "0.32\n"
     ]
    }
   ],
   "source": [
    "bnb=BernoulliNB()\n",
    "bnb.fit(X_train,y_train)\n",
    "Y_pred=bnb.predict(X_test)\n",
    "Y_pred\n",
    "acs=accuracy_score(y_test,Y_pred)\n",
    "print(acs)"
   ]
  },
  {
   "cell_type": "code",
   "execution_count": null,
   "id": "6c486cac-9f2a-4284-b676-1018494d4a16",
   "metadata": {},
   "outputs": [],
   "source": []
  },
  {
   "cell_type": "code",
   "execution_count": null,
   "id": "96955449-036b-4023-a97d-33025c2b6f59",
   "metadata": {},
   "outputs": [],
   "source": []
  }
 ],
 "metadata": {
  "kernelspec": {
   "display_name": "Python 3 (ipykernel)",
   "language": "python",
   "name": "python3"
  },
  "language_info": {
   "codemirror_mode": {
    "name": "ipython",
    "version": 3
   },
   "file_extension": ".py",
   "mimetype": "text/x-python",
   "name": "python",
   "nbconvert_exporter": "python",
   "pygments_lexer": "ipython3",
   "version": "3.12.0"
  }
 },
 "nbformat": 4,
 "nbformat_minor": 5
}
